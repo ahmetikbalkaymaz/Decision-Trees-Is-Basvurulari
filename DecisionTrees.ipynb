{
 "cells": [
  {
   "cell_type": "markdown",
   "id": "9340b689",
   "metadata": {},
   "source": [
    "## Decision Trees Classification "
   ]
  },
  {
   "cell_type": "code",
   "execution_count": 1,
   "id": "3cf5e039",
   "metadata": {},
   "outputs": [
    {
     "data": {
      "text/html": [
       "<div>\n",
       "<style scoped>\n",
       "    .dataframe tbody tr th:only-of-type {\n",
       "        vertical-align: middle;\n",
       "    }\n",
       "\n",
       "    .dataframe tbody tr th {\n",
       "        vertical-align: top;\n",
       "    }\n",
       "\n",
       "    .dataframe thead th {\n",
       "        text-align: right;\n",
       "    }\n",
       "</style>\n",
       "<table border=\"1\" class=\"dataframe\">\n",
       "  <thead>\n",
       "    <tr style=\"text-align: right;\">\n",
       "      <th></th>\n",
       "      <th>Deneyim Yili</th>\n",
       "      <th>SuanCalisiyor?</th>\n",
       "      <th>Eski Calistigi Firmalar</th>\n",
       "      <th>Egitim Seviyesi</th>\n",
       "      <th>Top10 Universite?</th>\n",
       "      <th>StajBizdeYaptimi?</th>\n",
       "      <th>IseAlindi</th>\n",
       "    </tr>\n",
       "  </thead>\n",
       "  <tbody>\n",
       "    <tr>\n",
       "      <th>0</th>\n",
       "      <td>11</td>\n",
       "      <td>Y</td>\n",
       "      <td>4</td>\n",
       "      <td>BS</td>\n",
       "      <td>N</td>\n",
       "      <td>N</td>\n",
       "      <td>Y</td>\n",
       "    </tr>\n",
       "    <tr>\n",
       "      <th>1</th>\n",
       "      <td>0</td>\n",
       "      <td>N</td>\n",
       "      <td>0</td>\n",
       "      <td>PhD</td>\n",
       "      <td>Y</td>\n",
       "      <td>Y</td>\n",
       "      <td>Y</td>\n",
       "    </tr>\n",
       "    <tr>\n",
       "      <th>2</th>\n",
       "      <td>5</td>\n",
       "      <td>Y</td>\n",
       "      <td>2</td>\n",
       "      <td>MS</td>\n",
       "      <td>N</td>\n",
       "      <td>Y</td>\n",
       "      <td>Y</td>\n",
       "    </tr>\n",
       "    <tr>\n",
       "      <th>3</th>\n",
       "      <td>3</td>\n",
       "      <td>N</td>\n",
       "      <td>1</td>\n",
       "      <td>BS</td>\n",
       "      <td>N</td>\n",
       "      <td>Y</td>\n",
       "      <td>Y</td>\n",
       "    </tr>\n",
       "    <tr>\n",
       "      <th>4</th>\n",
       "      <td>0</td>\n",
       "      <td>N</td>\n",
       "      <td>0</td>\n",
       "      <td>BS</td>\n",
       "      <td>N</td>\n",
       "      <td>N</td>\n",
       "      <td>N</td>\n",
       "    </tr>\n",
       "  </tbody>\n",
       "</table>\n",
       "</div>"
      ],
      "text/plain": [
       "   Deneyim Yili SuanCalisiyor?  Eski Calistigi Firmalar Egitim Seviyesi  \\\n",
       "0            11              Y                        4              BS   \n",
       "1             0              N                        0             PhD   \n",
       "2             5              Y                        2              MS   \n",
       "3             3              N                        1              BS   \n",
       "4             0              N                        0              BS   \n",
       "\n",
       "  Top10 Universite? StajBizdeYaptimi? IseAlindi  \n",
       "0                 N                 N         Y  \n",
       "1                 Y                 Y         Y  \n",
       "2                 N                 Y         Y  \n",
       "3                 N                 Y         Y  \n",
       "4                 N                 N         N  "
      ]
     },
     "execution_count": 1,
     "metadata": {},
     "output_type": "execute_result"
    }
   ],
   "source": [
    "import numpy as np\n",
    "import pandas as pd\n",
    "from sklearn import tree\n",
    "\n",
    "df = pd.read_csv(\"DecisionTreesClassificationDataSet.csv\")\n",
    "df.head()"
   ]
  },
  {
   "cell_type": "markdown",
   "id": "08ef5fa5",
   "metadata": {},
   "source": [
    "sckit-learn kütüphanesi decision tree'lerin düzgün çalışması için her şeyin rakamsal olmasını bekler bu yüzden datasetimizdeki Y ve N değerlerini 0 ve 1 olarak düzenliyoruz => N:0, Y:1\n",
    "BS:0, MS:1, PhD:2\n",
    "\n",
    "map( ) kullanarak geçersiz değer girilen hücreler NaN ile doldurulacaktır"
   ]
  },
  {
   "cell_type": "code",
   "execution_count": 2,
   "id": "1daa29a9",
   "metadata": {},
   "outputs": [],
   "source": [
    "correction_mapping = {'Y':1, 'N':0}\n",
    "\n",
    "df['IseAlindi'] = df['IseAlindi'].map(correction_mapping)\n",
    "df['StajBizdeYaptimi?'] = df['StajBizdeYaptimi?'].map(correction_mapping)\n",
    "df['Top10 Universite?'] = df['Top10 Universite?'].map(correction_mapping)\n",
    "df['SuanCalisiyor?'] = df['SuanCalisiyor?'].map(correction_mapping)\n",
    "\n",
    "correction_mapping_edu = {'BS':0, 'MS':1, 'PhD':2}\n",
    "\n",
    "df['Egitim Seviyesi'] = df['Egitim Seviyesi'].map(correction_mapping_edu)\n"
   ]
  },
  {
   "cell_type": "code",
   "execution_count": 3,
   "id": "c6848a2e",
   "metadata": {},
   "outputs": [
    {
     "data": {
      "text/html": [
       "<div>\n",
       "<style scoped>\n",
       "    .dataframe tbody tr th:only-of-type {\n",
       "        vertical-align: middle;\n",
       "    }\n",
       "\n",
       "    .dataframe tbody tr th {\n",
       "        vertical-align: top;\n",
       "    }\n",
       "\n",
       "    .dataframe thead th {\n",
       "        text-align: right;\n",
       "    }\n",
       "</style>\n",
       "<table border=\"1\" class=\"dataframe\">\n",
       "  <thead>\n",
       "    <tr style=\"text-align: right;\">\n",
       "      <th></th>\n",
       "      <th>Deneyim Yili</th>\n",
       "      <th>SuanCalisiyor?</th>\n",
       "      <th>Eski Calistigi Firmalar</th>\n",
       "      <th>Egitim Seviyesi</th>\n",
       "      <th>Top10 Universite?</th>\n",
       "      <th>StajBizdeYaptimi?</th>\n",
       "      <th>IseAlindi</th>\n",
       "    </tr>\n",
       "  </thead>\n",
       "  <tbody>\n",
       "    <tr>\n",
       "      <th>0</th>\n",
       "      <td>11</td>\n",
       "      <td>1</td>\n",
       "      <td>4</td>\n",
       "      <td>0</td>\n",
       "      <td>0</td>\n",
       "      <td>0</td>\n",
       "      <td>1</td>\n",
       "    </tr>\n",
       "    <tr>\n",
       "      <th>1</th>\n",
       "      <td>0</td>\n",
       "      <td>0</td>\n",
       "      <td>0</td>\n",
       "      <td>2</td>\n",
       "      <td>1</td>\n",
       "      <td>1</td>\n",
       "      <td>1</td>\n",
       "    </tr>\n",
       "    <tr>\n",
       "      <th>2</th>\n",
       "      <td>5</td>\n",
       "      <td>1</td>\n",
       "      <td>2</td>\n",
       "      <td>1</td>\n",
       "      <td>0</td>\n",
       "      <td>1</td>\n",
       "      <td>1</td>\n",
       "    </tr>\n",
       "    <tr>\n",
       "      <th>3</th>\n",
       "      <td>3</td>\n",
       "      <td>0</td>\n",
       "      <td>1</td>\n",
       "      <td>0</td>\n",
       "      <td>0</td>\n",
       "      <td>1</td>\n",
       "      <td>1</td>\n",
       "    </tr>\n",
       "    <tr>\n",
       "      <th>4</th>\n",
       "      <td>0</td>\n",
       "      <td>0</td>\n",
       "      <td>0</td>\n",
       "      <td>0</td>\n",
       "      <td>0</td>\n",
       "      <td>0</td>\n",
       "      <td>0</td>\n",
       "    </tr>\n",
       "  </tbody>\n",
       "</table>\n",
       "</div>"
      ],
      "text/plain": [
       "   Deneyim Yili  SuanCalisiyor?  Eski Calistigi Firmalar  Egitim Seviyesi  \\\n",
       "0            11               1                        4                0   \n",
       "1             0               0                        0                2   \n",
       "2             5               1                        2                1   \n",
       "3             3               0                        1                0   \n",
       "4             0               0                        0                0   \n",
       "\n",
       "   Top10 Universite?  StajBizdeYaptimi?  IseAlindi  \n",
       "0                  0                  0          1  \n",
       "1                  1                  1          1  \n",
       "2                  0                  1          1  \n",
       "3                  0                  1          1  \n",
       "4                  0                  0          0  "
      ]
     },
     "execution_count": 3,
     "metadata": {},
     "output_type": "execute_result"
    }
   ],
   "source": [
    "df.head()"
   ]
  },
  {
   "cell_type": "markdown",
   "id": "89a71115",
   "metadata": {},
   "source": [
    "Sonuç Sütununu Ayırıyoruz"
   ]
  },
  {
   "cell_type": "code",
   "execution_count": 4,
   "id": "ea907042",
   "metadata": {},
   "outputs": [],
   "source": [
    "y = df['IseAlindi']\n",
    "x = df.drop(['IseAlindi'],axis=1)"
   ]
  },
  {
   "cell_type": "code",
   "execution_count": 5,
   "id": "27402e69",
   "metadata": {},
   "outputs": [
    {
     "data": {
      "text/html": [
       "<div>\n",
       "<style scoped>\n",
       "    .dataframe tbody tr th:only-of-type {\n",
       "        vertical-align: middle;\n",
       "    }\n",
       "\n",
       "    .dataframe tbody tr th {\n",
       "        vertical-align: top;\n",
       "    }\n",
       "\n",
       "    .dataframe thead th {\n",
       "        text-align: right;\n",
       "    }\n",
       "</style>\n",
       "<table border=\"1\" class=\"dataframe\">\n",
       "  <thead>\n",
       "    <tr style=\"text-align: right;\">\n",
       "      <th></th>\n",
       "      <th>Deneyim Yili</th>\n",
       "      <th>SuanCalisiyor?</th>\n",
       "      <th>Eski Calistigi Firmalar</th>\n",
       "      <th>Egitim Seviyesi</th>\n",
       "      <th>Top10 Universite?</th>\n",
       "      <th>StajBizdeYaptimi?</th>\n",
       "    </tr>\n",
       "  </thead>\n",
       "  <tbody>\n",
       "    <tr>\n",
       "      <th>0</th>\n",
       "      <td>11</td>\n",
       "      <td>1</td>\n",
       "      <td>4</td>\n",
       "      <td>0</td>\n",
       "      <td>0</td>\n",
       "      <td>0</td>\n",
       "    </tr>\n",
       "    <tr>\n",
       "      <th>1</th>\n",
       "      <td>0</td>\n",
       "      <td>0</td>\n",
       "      <td>0</td>\n",
       "      <td>2</td>\n",
       "      <td>1</td>\n",
       "      <td>1</td>\n",
       "    </tr>\n",
       "    <tr>\n",
       "      <th>2</th>\n",
       "      <td>5</td>\n",
       "      <td>1</td>\n",
       "      <td>2</td>\n",
       "      <td>1</td>\n",
       "      <td>0</td>\n",
       "      <td>1</td>\n",
       "    </tr>\n",
       "    <tr>\n",
       "      <th>3</th>\n",
       "      <td>3</td>\n",
       "      <td>0</td>\n",
       "      <td>1</td>\n",
       "      <td>0</td>\n",
       "      <td>0</td>\n",
       "      <td>1</td>\n",
       "    </tr>\n",
       "    <tr>\n",
       "      <th>4</th>\n",
       "      <td>0</td>\n",
       "      <td>0</td>\n",
       "      <td>0</td>\n",
       "      <td>0</td>\n",
       "      <td>0</td>\n",
       "      <td>0</td>\n",
       "    </tr>\n",
       "  </tbody>\n",
       "</table>\n",
       "</div>"
      ],
      "text/plain": [
       "   Deneyim Yili  SuanCalisiyor?  Eski Calistigi Firmalar  Egitim Seviyesi  \\\n",
       "0            11               1                        4                0   \n",
       "1             0               0                        0                2   \n",
       "2             5               1                        2                1   \n",
       "3             3               0                        1                0   \n",
       "4             0               0                        0                0   \n",
       "\n",
       "   Top10 Universite?  StajBizdeYaptimi?  \n",
       "0                  0                  0  \n",
       "1                  1                  1  \n",
       "2                  0                  1  \n",
       "3                  0                  1  \n",
       "4                  0                  0  "
      ]
     },
     "execution_count": 5,
     "metadata": {},
     "output_type": "execute_result"
    }
   ],
   "source": [
    "x.head()"
   ]
  },
  {
   "cell_type": "markdown",
   "id": "9509bb81",
   "metadata": {},
   "source": [
    "#### Decision Tree Oluşturulur"
   ]
  },
  {
   "cell_type": "code",
   "execution_count": 6,
   "id": "695b761f",
   "metadata": {},
   "outputs": [],
   "source": [
    "clf = tree.DecisionTreeClassifier()\n",
    "clf = clf.fit(x,y)"
   ]
  },
  {
   "cell_type": "code",
   "execution_count": 7,
   "id": "28b66fc9",
   "metadata": {},
   "outputs": [
    {
     "name": "stdout",
     "output_type": "stream",
     "text": [
      "[1]\n"
     ]
    }
   ],
   "source": [
    "# Prediction\n",
    "\n",
    "#5 yıl deneyimli, halihazırda bir yerde çalışan ve 3 eski şirkette çalışmış olan, eğitim seviyesi lisans\n",
    "print(clf.predict([[5,1,3,0,0,0]]))"
   ]
  },
  {
   "cell_type": "code",
   "execution_count": 8,
   "id": "0b55b3bf",
   "metadata": {},
   "outputs": [
    {
     "name": "stdout",
     "output_type": "stream",
     "text": [
      "[0]\n"
     ]
    }
   ],
   "source": [
    "# 2 yıl deneyimli, 7 kez iş değiştirmiş, çok iyi bir okul mezunu, şu an çalışmıyor\n",
    "print(clf.predict([[2,0,7,0,1,0]]))"
   ]
  },
  {
   "cell_type": "code",
   "execution_count": 9,
   "id": "3f48dd26",
   "metadata": {},
   "outputs": [
    {
     "name": "stdout",
     "output_type": "stream",
     "text": [
      "[1]\n"
     ]
    }
   ],
   "source": [
    "# 20 yıl deneyimli, 5 kez iş değiştirmiş, iyi bir okul mezunu, şu an çalışmıyor\n",
    "print(clf.predict([[20,0,5,1,1,1]]))"
   ]
  },
  {
   "cell_type": "code",
   "execution_count": null,
   "id": "c7703b25",
   "metadata": {},
   "outputs": [],
   "source": []
  }
 ],
 "metadata": {
  "kernelspec": {
   "display_name": "Python 3 (ipykernel)",
   "language": "python",
   "name": "python3"
  },
  "language_info": {
   "codemirror_mode": {
    "name": "ipython",
    "version": 3
   },
   "file_extension": ".py",
   "mimetype": "text/x-python",
   "name": "python",
   "nbconvert_exporter": "python",
   "pygments_lexer": "ipython3",
   "version": "3.7.11"
  }
 },
 "nbformat": 4,
 "nbformat_minor": 5
}
